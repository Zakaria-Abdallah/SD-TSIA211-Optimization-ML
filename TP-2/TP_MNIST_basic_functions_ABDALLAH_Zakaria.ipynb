{
 "cells": [
  {
   "cell_type": "code",
   "execution_count": 3,
   "id": "149938de",
   "metadata": {},
   "outputs": [],
   "source": [
    "import numpy as np\n",
    "import tensorflow as tf\n",
    "from tensorflow import keras\n",
    "from tensorflow.keras import layers\n",
    "import matplotlib.pyplot as plt\n",
    "from tqdm import tqdm\n",
    "from sklearn.metrics import accuracy_score\n"
   ]
  },
  {
   "cell_type": "code",
   "execution_count": 4,
   "id": "773c1396",
   "metadata": {},
   "outputs": [
    {
     "name": "stdout",
     "output_type": "stream",
     "text": [
      "5\n"
     ]
    },
    {
     "data": {
      "text/plain": [
       "<matplotlib.image.AxesImage at 0x13d8de73fd0>"
      ]
     },
     "execution_count": 4,
     "metadata": {},
     "output_type": "execute_result"
    },
    {
     "data": {
      "image/png": "[encoded data removed]",
      "text/plain": [
       "<Figure size 640x480 with 1 Axes>"
      ]
     },
     "metadata": {},
     "output_type": "display_data"
    }
   ],
   "source": [
    "train_data, test_data = tf.keras.datasets.mnist.load_data(path=\"mnist.npz\")\n",
    "x_train = train_data[0].reshape(-1,784).astype(float) / 255\n",
    "y_train = train_data[1]\n",
    "print(y_train[0])\n",
    "plt.imshow(train_data[0][1], cmap='gray')\n"
   ]
  },
  {
   "cell_type": "code",
   "execution_count": 5,
   "id": "4b521b78",
   "metadata": {},
   "outputs": [
    {
     "name": "stdout",
     "output_type": "stream",
     "text": [
      "WARNING:tensorflow:From c:\\Users\\pcd\\anaconda3\\lib\\site-packages\\keras\\src\\backend.py:1398: The name tf.executing_eagerly_outside_functions is deprecated. Please use tf.compat.v1.executing_eagerly_outside_functions instead.\n",
      "\n",
      "Model: \"mnist_model\"\n",
      "_________________________________________________________________\n",
      " Layer (type)                Output Shape              Param #   \n",
      "=================================================================\n",
      " digits (InputLayer)         [(None, 784)]             0         \n",
      "                                                                 \n",
      " dense_1 (Dense)             (None, 32)                25120     \n",
      "                                                                 \n",
      " dense_2 (Dense)             (None, 32)                1056      \n",
      "                                                                 \n",
      " predictions (Dense)         (None, 10)                330       \n",
      "                                                                 \n",
      "=================================================================\n",
      "Total params: 26506 (103.54 KB)\n",
      "Trainable params: 26506 (103.54 KB)\n",
      "Non-trainable params: 0 (0.00 Byte)\n",
      "_________________________________________________________________\n"
     ]
    }
   ],
   "source": [
    "# source: https://keras.io/guides/training_with_built_in_methods/\n",
    "\n",
    "inputs = keras.Input(shape=(784,), name=\"digits\")\n",
    "x = layers.Dense(32, activation=\"relu\", name=\"dense_1\")(inputs)\n",
    "x = layers.Dense(32, activation=\"relu\", name=\"dense_2\")(x)\n",
    "outputs = layers.Dense(10, activation=None, name=\"predictions\")(x)\n",
    "model = keras.Model(inputs=inputs, outputs=outputs, name=\"mnist_model\")\n",
    "loss = keras.losses.SparseCategoricalCrossentropy(from_logits=True)\n",
    "#def loss(true, pred):\n",
    "#    val = 0.\n",
    "#    for i in range(len(true)):\n",
    "#        val -= np.log(pred[i, true[i]])\n",
    "#    return val / len(true)\n",
    "model.summary()"
   ]
  },
  {
   "cell_type": "markdown",
   "id": "ffe926ae",
   "metadata": {},
   "source": [
    "**Intrepretation** :\n",
    "\n",
    "first the model has 2 layers each one has a 32 neurons and for each layer to make a decision the Relu the activation function is used.\n",
    "for the last layer will produce a logits which the loss function will internally convert to probabilities using the softmax function"
   ]
  },
  {
   "cell_type": "code",
   "execution_count": 6,
   "id": "b18b6bdb",
   "metadata": {},
   "outputs": [
    {
     "data": {
      "text/plain": [
       "array([4, 5, 4, 4, 5, 4, 7, 4, 4, 4, 4, 4, 4, 4, 4, 4, 4, 2, 4, 2, 4, 3,\n",
       "       2, 5, 4, 4, 4, 4, 4, 1, 7, 5, 4, 2, 4, 4, 4, 4, 7, 4, 4, 4, 4, 2,\n",
       "       0, 5, 4, 4, 7, 2, 4, 4, 6, 1, 4, 7, 4, 4, 4, 4, 4, 2, 4, 4, 4, 2,\n",
       "       4, 2, 4, 4, 7, 5, 4, 4, 4, 4, 4, 4, 4, 0, 4, 4, 4, 4, 4, 4, 4, 2,\n",
       "       4, 4, 4, 4, 4, 4, 4, 4, 4, 2, 4, 5], dtype=int64)"
      ]
     },
     "execution_count": 6,
     "metadata": {},
     "output_type": "execute_result"
    }
   ],
   "source": [
    "# untrained model\n",
    "# here it takes the images where xtrain contains a 60000 records each one has a dimention of 784 that represents the data of one image\n",
    "logits = model(x_train)\n",
    "# here we search along the axis 1 which is the x axis\n",
    "np.argmax(logits, 1)[0:100]\n",
    "# shape 0 along the y axis\n",
    "#print(logits.shape[0])"
   ]
  },
  {
   "cell_type": "code",
   "execution_count": 7,
   "id": "35d74f67",
   "metadata": {},
   "outputs": [
    {
     "data": {
      "text/plain": [
       "array([5, 0, 4, 1, 9, 2, 1, 3, 1, 4, 3, 5, 3, 6, 1, 7, 2, 8, 6, 9, 4, 0,\n",
       "       9, 1, 1, 2, 4, 3, 2, 7, 3, 8, 6, 9, 0, 5, 6, 0, 7, 6, 1, 8, 7, 9,\n",
       "       3, 9, 8, 5, 9, 3, 3, 0, 7, 4, 9, 8, 0, 9, 4, 1, 4, 4, 6, 0, 4, 5,\n",
       "       6, 1, 0, 0, 1, 7, 1, 6, 3, 0, 2, 1, 1, 7, 9, 0, 2, 6, 7, 8, 3, 9,\n",
       "       0, 4, 6, 7, 4, 6, 8, 0, 7, 8, 3, 1], dtype=uint8)"
      ]
     },
     "execution_count": 7,
     "metadata": {},
     "output_type": "execute_result"
    }
   ],
   "source": [
    "# what we would like to get\n",
    "y_train[0:100]\n",
    "\n",
    "# counter = 0\n",
    "# for i in range(2000):\n",
    "#     if y_train[i] == np.argmax(logits,1)[i]:\n",
    "#         counter +=1\n",
    "\n",
    "# print(counter)"
   ]
  },
  {
   "cell_type": "code",
   "execution_count": 8,
   "id": "4c0073e2",
   "metadata": {},
   "outputs": [
    {
     "data": {
      "text/plain": [
       "2.3268774"
      ]
     },
     "execution_count": 8,
     "metadata": {},
     "output_type": "execute_result"
    }
   ],
   "source": [
    "## Computing a stochastic gradient\n",
    "\n",
    "# Source: https://keras.io/guides/writing_a_training_loop_from_scratch/\n",
    "\n",
    "# Example of gradient computation using automatic differentiation\n",
    "\n",
    "x_train_batch = x_train[:8]\n",
    "y_train_batch = y_train[:8]\n",
    "with tf.GradientTape() as tape:\n",
    "        # Run the forward pass of the layer.\n",
    "        # The operations that the layer applies\n",
    "        # to its inputs are going to be recorded\n",
    "        # on the GradientTape.\n",
    "        logits = model(x_train_batch)  # Logits for this minibatch\n",
    "\n",
    "        # Compute the loss value for this minibatch.\n",
    "        loss_value = loss(y_train_batch, logits)\n",
    "\n",
    "# Use the gradient tape to automatically retrieve\n",
    "# the gradients of the trainable variables with respect to the loss.\n",
    "grad = tape.gradient(loss_value, model.trainable_weights)\n",
    "## Updating weights\n",
    "def update_weights(model, update):\n",
    "    new_weights = model.trainable_weights.copy()\n",
    "    for i in range(len(new_weights)):\n",
    "        new_weights[i] = new_weights[i] + update[i]\n",
    "    model.set_weights(new_weights)\n",
    "\n",
    "## Evaluate model\n",
    "samples_for_evaluation = np.random.randint(0, 10000, 1000)\n",
    "logits = model(x_train[samples_for_evaluation])\n",
    "loss(y_train[samples_for_evaluation], logits).numpy()\n"
   ]
  },
  {
   "cell_type": "markdown",
   "id": "12373402",
   "metadata": {},
   "source": [
    "**4.1**  \n",
    "\n",
    "How many optimization variables are we going to train using this model?\n",
    "\n",
    "the number of oprimization variables needed here (the weights) is the following :\n",
    "\n",
    "for the first layer the input data has a size of 784 features (flatten matrix form the image which is the input) and we have 32 neurons for each one we need 784 parameters  over all neuron = 784*32 in addition there is a biais for each neuron so in Total = 784*32 +32\n",
    "\n",
    "same for the rest of layers =====> dense one parameters = 32*32 + 32 \n",
    "\n",
    "dense 2 ====> parameters = 32*10 + 10 \n",
    "\n",
    "to answer the question the total number of parameters is : 784*32 + 32 + 32*32 +32 + 32*10 + 10 = 26506 parameters"
   ]
  },
  {
   "cell_type": "markdown",
   "id": "b3e276e5",
   "metadata": {},
   "source": [
    "**Part 5 and 6**\n",
    "\n"
   ]
  },
  {
   "cell_type": "code",
   "execution_count": 12,
   "id": "ec79dd02",
   "metadata": {},
   "outputs": [],
   "source": [
    "\n",
    "def update_model_weights(model, gradients, learning_rate):\n",
    "    for w, g in zip(model.trainable_weights, gradients):\n",
    "        w.assign_sub(learning_rate * g)\n",
    "\n",
    "def evaluate_model(model, x_eval, y_eval, loss_fn):\n",
    "    logits = model(x_eval)\n",
    "    loss = loss_fn(y_eval, logits).numpy()\n",
    "    return loss\n",
    "\n",
    "def perform_sgd(model, x_data, y_data, loss_fn, batch_size=60, learning_rate=0.01, epochs=1):\n",
    "    n_samples = x_data.shape[0]\n",
    "    obj_values = []\n",
    "    iterations = 0\n",
    "    for _ in range(epochs):\n",
    "        indices = np.arange(n_samples)\n",
    "        np.random.shuffle(indices)\n",
    "        x_data_shuffled = x_data[indices]\n",
    "        y_data_shuffled = y_data[indices]\n",
    "        for start_idx in tqdm(range(0, n_samples, batch_size)):\n",
    "            end_idx = min(start_idx + batch_size, n_samples)\n",
    "            x_batch = x_data_shuffled[start_idx:end_idx]\n",
    "            y_batch = y_data_shuffled[start_idx:end_idx]\n",
    "            with tf.GradientTape() as tape:\n",
    "                logits_batch = model(x_batch)\n",
    "                loss_value = loss_fn(y_batch, logits_batch)\n",
    "            gradients = tape.gradient(loss_value, model.trainable_weights)\n",
    "            update_model_weights(model, gradients, learning_rate)\n",
    "            if iterations % 100 == 0:\n",
    "                eval_loss = evaluate_model(model, x_data, y_data, loss_fn)\n",
    "                obj_values.append(eval_loss)\n",
    "            iterations += 1\n",
    "    plt.figure(figsize=(10, 6))\n",
    "    plt.plot(np.arange(len(obj_values)) * 10, obj_values, label=\"Objective Value\")\n",
    "    plt.xlabel(\"Iterations\")\n",
    "    plt.ylabel(\"Loss\")\n",
    "    plt.title(\"Objective Value vs. Iterations\")\n",
    "    plt.legend()\n",
    "    plt.grid(True)\n",
    "    plt.show()\n"
   ]
  },
  {
   "cell_type": "code",
   "execution_count": 13,
   "id": "15a9cc9d",
   "metadata": {},
   "outputs": [
    {
     "name": "stderr",
     "output_type": "stream",
     "text": [
      "100%|██████████| 1000/1000 [00:10<00:00, 98.21it/s]\n",
      "100%|██████████| 1000/1000 [00:09<00:00, 102.88it/s]\n",
      "100%|██████████| 1000/1000 [00:09<00:00, 100.63it/s]\n",
      "100%|██████████| 1000/1000 [00:09<00:00, 100.13it/s]\n",
      "100%|██████████| 1000/1000 [00:09<00:00, 102.24it/s]\n",
      "100%|██████████| 1000/1000 [00:11<00:00, 86.99it/s]\n",
      "100%|██████████| 1000/1000 [00:10<00:00, 93.37it/s]\n",
      "100%|██████████| 1000/1000 [00:09<00:00, 102.94it/s]\n",
      "100%|██████████| 1000/1000 [00:09<00:00, 102.60it/s]\n",
      "100%|██████████| 1000/1000 [00:10<00:00, 97.04it/s] \n"
     ]
    },
    {
     "data": {
      "image/png": "[encoded data removed]",
      "text/plain": [
       "<Figure size 1000x600 with 1 Axes>"
      ]
     },
     "metadata": {},
     "output_type": "display_data"
    }
   ],
   "source": [
    "perform_sgd(model,x_train,y_train,loss,batch_size=60, learning_rate=0.01, epochs=10)"
   ]
  },
  {
   "cell_type": "markdown",
   "id": "251413d1",
   "metadata": {},
   "source": [
    "**Part 6.2**:\n",
    "\n",
    "\n"
   ]
  },
  {
   "cell_type": "markdown",
   "id": "01eac2e1",
   "metadata": {},
   "source": [
    "Batch processing in stochastic gradient descent (SGD) enhances computational efficiency by leveraging vectorized operations, reduces noise in the gradient estimates for more stable convergence, allows for more effective use of parallel processing architectures, and can lead to improved generalization by smoothing the loss landscape."
   ]
  },
  {
   "cell_type": "markdown",
   "id": "05c75edc",
   "metadata": {},
   "source": [
    "**Part7**:\n"
   ]
  },
  {
   "cell_type": "code",
   "execution_count": 11,
   "id": "c3158019",
   "metadata": {},
   "outputs": [
    {
     "name": "stdout",
     "output_type": "stream",
     "text": [
      "Training Accuracy: 93.97%\n",
      "Test Accuracy: 93.96%\n"
     ]
    }
   ],
   "source": [
    "def calculate_accuracy(model, x, y):\n",
    "    logits = model(x, training=False)\n",
    "    predicted_labels = np.argmax(logits, axis=1)\n",
    "    accuracy = np.mean(predicted_labels == y) \n",
    "    return accuracy\n",
    "\n",
    "# Calculate training accuracy\n",
    "train_accuracy = calculate_accuracy(model, x_train, y_train)\n",
    "print(f\"Training Accuracy: {train_accuracy * 100:.2f}%\")\n",
    "\n",
    "# Calculate test accuracy\n",
    "test_accuracy = calculate_accuracy(model, test_data[0].reshape(-1,784).astype(float) / 255, test_data[1])\n",
    "print(f\"Test Accuracy: {test_accuracy * 100:.2f}%\")\n"
   ]
  }
 ],
 "metadata": {
  "kernelspec": {
   "display_name": "Python 3",
   "language": "python",
   "name": "python3"
  },
  "language_info": {
   "codemirror_mode": {
    "name": "ipython",
    "version": 3
   },
   "file_extension": ".py",
   "mimetype": "text/x-python",
   "name": "python",
   "nbconvert_exporter": "python",
   "pygments_lexer": "ipython3",
   "version": "3.9.13"
  }
 },
 "nbformat": 4,
 "nbformat_minor": 5
}
